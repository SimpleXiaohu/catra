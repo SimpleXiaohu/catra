{
 "cells": [
  {
   "cell_type": "markdown",
   "id": "fe5e0cd6-00ff-4b21-9275-e3dbfe1c8508",
   "metadata": {},
   "source": [
    "# CATRA experiments and analysis"
   ]
  },
  {
   "cell_type": "markdown",
   "id": "d7aca33a-980b-41b4-957d-858c485d5b42",
   "metadata": {
    "tags": []
   },
   "source": [
    "## Preliminaries and parsing"
   ]
  },
  {
   "cell_type": "markdown",
   "id": "3956806e-f08e-4225-b2f4-7877bf9be2da",
   "metadata": {},
   "source": [
    "We start out by implementing a crude parser for the log format CATRA outputs. The first step is to define a result: it's a combination of a runtime, a file that the solver was executed on, and a status. If the status is an error, the runtime is undefined."
   ]
  },
  {
   "cell_type": "code",
   "execution_count": 1,
   "id": "b9bcd9b1-bd22-45fa-ab34-ce0070a15e50",
   "metadata": {},
   "outputs": [],
   "source": [
    "from collections import namedtuple\n",
    "from enum import Enum, auto\n",
    "\n",
    "class Status(Enum):\n",
    "    SAT = auto()\n",
    "    UNSAT = auto()\n",
    "    TIMEOUT = auto()\n",
    "    MEMORY_OUT = auto()\n",
    "    ERROR = auto()\n",
    "\n",
    "Result = namedtuple(\"Result\", [\"instance\", \"status\", \"runtime\"])"
   ]
  },
  {
   "cell_type": "markdown",
   "id": "63767dbc-1930-4eeb-a4ed-081788dd9a1f",
   "metadata": {},
   "source": [
    "Then we define routines for parsing input files:"
   ]
  },
  {
   "cell_type": "code",
   "execution_count": 2,
   "id": "9f60218a-94f0-4614-8bea-faa2d429262d",
   "metadata": {},
   "outputs": [],
   "source": [
    "import re\n",
    "\n",
    "# This matches anything but an error\n",
    "LINE_RE = re.compile(\n",
    "    r\"^==== (?P<instance>.*?): (?P<status>sat|unsat|timeout.*ms|memory-out) run: (?P<runtime>.+)s parse: .*====$\"\n",
    ")\n",
    "\n",
    "# Due to a historical bug in the output format, we allow 3-4 trailing equals signs on errors\n",
    "ERROR_RE = re.compile(\"^==== (?P<instance>.*?) error: (?P<message>.*)====?$\")\n",
    "\n",
    "def status_from_str(status):\n",
    "    if \"timeout\" in status:\n",
    "        return Status.TIMEOUT\n",
    "    if status == \"unsat\":\n",
    "        return Status.UNSAT\n",
    "    if status == \"sat\":\n",
    "        return Status.SAT\n",
    "    if status == \"memory-out\":\n",
    "        return Status.MEMORY_OUT\n",
    "    if \"error\" in status:\n",
    "        return Status.ERROR\n",
    "    \n",
    "    raise ValueError(f\"Unexpected status {status}\")\n",
    "    \n",
    "\n",
    "def parse_line(line):\n",
    "    match = LINE_RE.match(line)\n",
    "    if match:\n",
    "        status = status_from_str(match.group(\"status\"))\n",
    "        runtime = (\n",
    "            float(match.group(\"runtime\"))\n",
    "            if status not in [Status.TIMEOUT, Status.MEMORY_OUT]\n",
    "            else float(\"inf\")\n",
    "        )\n",
    "        return Result(match.group(\"instance\"), status, runtime)\n",
    "    match = ERROR_RE.match(line)\n",
    "    if not match:\n",
    "        return None\n",
    "    # It's an error\n",
    "    return Result(match.group(\"instance\"), Status.ERROR, float(\"inf\"))\n",
    "    \n",
    "    \n",
    "def parse_log(log):\n",
    "    with open(log) as fp :\n",
    "        for line in fp:\n",
    "            result = parse_line(line)\n",
    "            if result:\n",
    "                yield result\n",
    "    "
   ]
  },
  {
   "cell_type": "markdown",
   "id": "a68b09c8-df0f-4c62-a9c3-ce32b11a366c",
   "metadata": {},
   "source": [
    "### Common imports"
   ]
  },
  {
   "cell_type": "code",
   "execution_count": 3,
   "id": "6b9a142c-d6b9-4563-862e-83b15061bfc4",
   "metadata": {},
   "outputs": [],
   "source": [
    "import seaborn as sns\n",
    "import pandas as pd\n",
    "import matplotlib.pylab as plt\n",
    "\n",
    "sns.set_style(\"whitegrid\")\n"
   ]
  },
  {
   "cell_type": "markdown",
   "id": "4326bf9e-1f55-4084-acc6-f145b333479f",
   "metadata": {},
   "source": [
    "### Constants"
   ]
  },
  {
   "cell_type": "code",
   "execution_count": 74,
   "id": "c5e08f6d-0249-4afa-82e0-fb085fbd7528",
   "metadata": {},
   "outputs": [],
   "source": [
    "backends = [\"lazy\", \"nuxmv\", \"baseline\"]"
   ]
  },
  {
   "cell_type": "markdown",
   "id": "c16bc53c-bcd8-4101-96ac-e386172e469e",
   "metadata": {
    "tags": []
   },
   "source": [
    "## Overhead\n",
    "In order to know how fair our comparison is, we run all solvers repeatedly on the same, trivial instance."
   ]
  },
  {
   "cell_type": "code",
   "execution_count": 72,
   "id": "939f0a75-a366-4a20-b666-04010b42f57c",
   "metadata": {},
   "outputs": [
    {
     "name": "stdout",
     "output_type": "stream",
     "text": [
      "counter int R1;\n",
      "synchronised {\n",
      "automaton value_0 {\n",
      "  init s0;\n",
      "  s0 -> s1 [32, 32] { R1 += 1 };\n",
      "  accepting s1;\n",
      "};\n",
      "};\n"
     ]
    }
   ],
   "source": [
    "!cat trivial.par"
   ]
  },
  {
   "cell_type": "code",
   "execution_count": 81,
   "id": "acd59171-6458-4ec3-8a8e-41a14998c737",
   "metadata": {},
   "outputs": [],
   "source": [
    "%%sh\n",
    "INVOCATIONS=$(perl -E 'say \"trivial.par \" x 20')\n",
    "\n",
    "for backend in lazy nuxmv baseline;\n",
    "do\n",
    "  ../bin/catra solve-satisfy --backend ${backend} $INVOCATIONS > trivial-${backend}.log\n",
    "done"
   ]
  },
  {
   "cell_type": "code",
   "execution_count": 5,
   "id": "0d9291f5-7458-4691-8e74-0c2e9127481c",
   "metadata": {},
   "outputs": [],
   "source": [
    "df = pd.concat(pd.DataFrame(\n",
    "    parse_log(f\"trivial-{backend}.log\"))\n",
    "          .assign(backend = backend) for backend in backends)"
   ]
  },
  {
   "cell_type": "markdown",
   "id": "3e7485cc-cfb1-429f-809c-1208821a1943",
   "metadata": {},
   "source": [
    "Now we can plot the values to see how they look over time. A clear result is that the first run is much slower for all backends, but less so for nuxmv. This is unsurprising, given that the other backends are running on a cold JVM, while nuxmv does most of the work in a compiled binary. We also see here that once the JVM is warm, the overhead for all back-ends normalise to something very similar, with a small, sub .1-second overhead for cold-starting nuxmv for each instance."
   ]
  },
  {
   "cell_type": "code",
   "execution_count": 7,
   "id": "a588c9cc-a757-4528-b324-1a6bdef20aae",
   "metadata": {},
   "outputs": [
    {
     "data": {
      "image/png": "[encoded data removed]",
      "text/plain": [
       "<Figure size 720x432 with 1 Axes>"
      ]
     },
     "metadata": {
      "needs_background": "light"
     },
     "output_type": "display_data"
    }
   ],
   "source": [
    "_ = df.groupby(\"backend\")[\"runtime\"].plot(legend=True, \n",
    "                                      figsize=(10,6),\n",
    "                                      xlabel=\"# iterations\", \n",
    "                                      ylabel=\"Runtime (s) logscale\",\n",
    "                                      logy=True, \n",
    "                                      style='.')"
   ]
  },
  {
   "cell_type": "markdown",
   "id": "3e87d390-b438-439e-9667-f33d522fb291",
   "metadata": {},
   "source": [
    "Filtering out the outliers from the cold runs, we get the following:"
   ]
  },
  {
   "cell_type": "code",
   "execution_count": 9,
   "id": "c9844dea-3834-4b9d-b160-5fbd33f6175d",
   "metadata": {},
   "outputs": [
    {
     "data": {
      "image/png": "[encoded data removed]",
      "text/plain": [
       "<Figure size 720x432 with 1 Axes>"
      ]
     },
     "metadata": {
      "needs_background": "light"
     },
     "output_type": "display_data"
    }
   ],
   "source": [
    "_ = df[df['runtime'] <= 0.1 ].groupby('backend')['runtime'].plot(figsize=(10, 6),\n",
    "                                      legend=True, \n",
    "                                      xlabel=\"# iterations\", \n",
    "                                      ylabel=\"Runtime (s) lin-scale\",\n",
    "                                      style='.',\n",
    "                                      logy=False)"
   ]
  },
  {
   "cell_type": "markdown",
   "id": "544ceff6-f2f0-492e-8827-6ed4fe1e0fd1",
   "metadata": {},
   "source": [
    "##  Execution time"
   ]
  },
  {
   "cell_type": "code",
   "execution_count": 76,
   "id": "3fa95928-0180-4b63-9f7d-87c797208f40",
   "metadata": {},
   "outputs": [],
   "source": [
    "commit = \"e8102cf\""
   ]
  },
  {
   "cell_type": "markdown",
   "id": "5f1f0566-59e0-4f42-8f5d-bb169be4c93c",
   "metadata": {},
   "source": [
    "First, let's make sure they all agree on the results:"
   ]
  },
  {
   "cell_type": "code",
   "execution_count": 85,
   "id": "a93da8f3-823f-4dfc-a858-b911f9ce3422",
   "metadata": {},
   "outputs": [
    {
     "name": "stdout",
     "output_type": "stream",
     "text": [
      "\n",
      "======= Summary =======\n",
      "## unsat\n",
      "../e8102cf-lazy.log solo win                                             27\n",
      "../e8102cf-baseline.log/../e8102cf-nuxmv.log shared non-timeout loss     11\n",
      "../e8102cf-baseline.log/../e8102cf-nuxmv.log shared timeout loss         9\n",
      "../e8102cf-nuxmv.log solo timeout loss                                   6\n",
      "../e8102cf-baseline.log solo non-timeout loss                            6\n",
      "../e8102cf-nuxmv.log solo win                                            4\n",
      "../e8102cf-baseline.log/../e8102cf-lazy.log shared timeout loss          4\n",
      "../e8102cf-nuxmv.log solo non-timeout loss                               2\n",
      "../e8102cf-baseline.log/../e8102cf-lazy.log shared win                   1\n",
      "../e8102cf-baseline.log solo timeout loss                                1\n",
      "\n",
      "## sat\n",
      "../e8102cf-nuxmv.log solo win                                       20\n",
      "../e8102cf-baseline.log/../e8102cf-lazy.log shared timeout loss     20\n",
      "../e8102cf-baseline.log solo timeout loss                           6\n",
      "../e8102cf-lazy.log solo win                                        3\n",
      "../e8102cf-nuxmv.log solo non-timeout loss                          3\n",
      "../e8102cf-lazy.log/../e8102cf-nuxmv.log shared win                 3\n",
      "\n",
      "## unknown\n",
      "all timeout     31\n",
      "\n"
     ]
    }
   ],
   "source": [
    "!../bin/compare.py ../$commit-*.log"
   ]
  },
  {
   "cell_type": "code",
   "execution_count": 123,
   "id": "33508dba-a80d-4610-acd3-032a1f5d054a",
   "metadata": {},
   "outputs": [],
   "source": [
    "runtimes = pd.concat(pd.DataFrame(\n",
    "    parse_log(f\"../{commit}-{backend}.log\"))\n",
    "          .assign(backend = backend) for backend in backends)"
   ]
  },
  {
   "cell_type": "code",
   "execution_count": 133,
   "id": "ed446442-4e91-44bc-8874-24681bb0790e",
   "metadata": {},
   "outputs": [],
   "source": [
    "runtimes['backend'] = runtimes['backend'].astype(\"category\")\n",
    "runtimes['status'] = runtimes['status'].astype(\"category\")\n",
    "runtimes['status'] = runtimes['status'].cat.set_categories(\n",
    "    [Status.SAT, Status.UNSAT, Status.TIMEOUT, Status.MEMORY_OUT, Status.ERROR], \n",
    "    ordered=True)"
   ]
  },
  {
   "cell_type": "markdown",
   "id": "d1d8aabb-9b45-4999-a1f3-cfe4524b1a9f",
   "metadata": {},
   "source": [
    "How many instances are in each category, per backend?"
   ]
  },
  {
   "cell_type": "code",
   "execution_count": 163,
   "id": "26378a14-b3cc-4c39-8000-4210179753dc",
   "metadata": {},
   "outputs": [
    {
     "data": {
      "text/plain": [
       "<AxesSubplot:xlabel='backend,status'>"
      ]
     },
     "execution_count": 163,
     "metadata": {},
     "output_type": "execute_result"
    },
    {
     "data": {
      "image/png": "[encoded data removed]",
      "text/plain": [
       "<Figure size 432x288 with 1 Axes>"
      ]
     },
     "metadata": {
      "needs_background": "light"
     },
     "output_type": "display_data"
    }
   ],
   "source": [
    "runtimes.groupby(['backend', 'status']).size().plot.bar()"
   ]
  },
  {
   "cell_type": "markdown",
   "id": "fc5b25d3-397c-4724-86ac-c0eaba2f19e8",
   "metadata": {},
   "source": [
    "How do the respective solvers do on each type of instance?"
   ]
  },
  {
   "cell_type": "code",
   "execution_count": 191,
   "id": "b0e57e6b-e187-47d4-9ca9-274e77df6b99",
   "metadata": {},
   "outputs": [],
   "source": [
    "by_sat_status = pd.concat(group.assign(kind=group.status.min()) \n",
    "                          for instance, group in runtimes.groupby('instance'))\n",
    "\n",
    "by_sat_status['kind'] = by_sat_status['kind'].astype(\"category\")\n",
    "by_sat_status['kind'] = by_sat_status['kind'].cat.set_categories(\n",
    "    [Status.SAT, Status.UNSAT, Status.TIMEOUT], \n",
    "    ordered=True)\n",
    "\n",
    "known_solved = by_sat_status[by_sat_status['kind'] != Status.TIMEOUT].copy()\n",
    "known_solved['kind'] = known_solved['kind'].cat.set_categories(\n",
    "    [Status.SAT, Status.UNSAT])\n"
   ]
  },
  {
   "cell_type": "code",
   "execution_count": 251,
   "id": "c11ef1e3-dcde-4d18-81ca-c3665a04edac",
   "metadata": {},
   "outputs": [
    {
     "data": {
      "text/html": [
       "<div>\n",
       "<style scoped>\n",
       "    .dataframe tbody tr th:only-of-type {\n",
       "        vertical-align: middle;\n",
       "    }\n",
       "\n",
       "    .dataframe tbody tr th {\n",
       "        vertical-align: top;\n",
       "    }\n",
       "\n",
       "    .dataframe thead th {\n",
       "        text-align: right;\n",
       "    }\n",
       "</style>\n",
       "<table border=\"1\" class=\"dataframe\">\n",
       "  <thead>\n",
       "    <tr style=\"text-align: right;\">\n",
       "      <th></th>\n",
       "      <th>backend</th>\n",
       "      <th>baseline</th>\n",
       "      <th>lazy</th>\n",
       "      <th>nuxmv</th>\n",
       "    </tr>\n",
       "    <tr>\n",
       "      <th>kind</th>\n",
       "      <th>status</th>\n",
       "      <th></th>\n",
       "      <th></th>\n",
       "      <th></th>\n",
       "    </tr>\n",
       "  </thead>\n",
       "  <tbody>\n",
       "    <tr>\n",
       "      <th rowspan=\"5\" valign=\"top\">Status.SAT</th>\n",
       "      <th>Status.SAT</th>\n",
       "      <td>0</td>\n",
       "      <td>6</td>\n",
       "      <td>26</td>\n",
       "    </tr>\n",
       "    <tr>\n",
       "      <th>Status.UNSAT</th>\n",
       "      <td>0</td>\n",
       "      <td>0</td>\n",
       "      <td>0</td>\n",
       "    </tr>\n",
       "    <tr>\n",
       "      <th>Status.TIMEOUT</th>\n",
       "      <td>26</td>\n",
       "      <td>20</td>\n",
       "      <td>0</td>\n",
       "    </tr>\n",
       "    <tr>\n",
       "      <th>Status.MEMORY_OUT</th>\n",
       "      <td>0</td>\n",
       "      <td>0</td>\n",
       "      <td>0</td>\n",
       "    </tr>\n",
       "    <tr>\n",
       "      <th>Status.ERROR</th>\n",
       "      <td>0</td>\n",
       "      <td>0</td>\n",
       "      <td>0</td>\n",
       "    </tr>\n",
       "    <tr>\n",
       "      <th rowspan=\"5\" valign=\"top\">Status.UNSAT</th>\n",
       "      <th>Status.SAT</th>\n",
       "      <td>0</td>\n",
       "      <td>0</td>\n",
       "      <td>0</td>\n",
       "    </tr>\n",
       "    <tr>\n",
       "      <th>Status.UNSAT</th>\n",
       "      <td>18</td>\n",
       "      <td>28</td>\n",
       "      <td>17</td>\n",
       "    </tr>\n",
       "    <tr>\n",
       "      <th>Status.TIMEOUT</th>\n",
       "      <td>14</td>\n",
       "      <td>4</td>\n",
       "      <td>15</td>\n",
       "    </tr>\n",
       "    <tr>\n",
       "      <th>Status.MEMORY_OUT</th>\n",
       "      <td>0</td>\n",
       "      <td>0</td>\n",
       "      <td>0</td>\n",
       "    </tr>\n",
       "    <tr>\n",
       "      <th>Status.ERROR</th>\n",
       "      <td>0</td>\n",
       "      <td>0</td>\n",
       "      <td>0</td>\n",
       "    </tr>\n",
       "  </tbody>\n",
       "</table>\n",
       "</div>"
      ],
      "text/plain": [
       "backend                         baseline  lazy  nuxmv\n",
       "kind         status                                  \n",
       "Status.SAT   Status.SAT                0     6     26\n",
       "             Status.UNSAT              0     0      0\n",
       "             Status.TIMEOUT           26    20      0\n",
       "             Status.MEMORY_OUT         0     0      0\n",
       "             Status.ERROR              0     0      0\n",
       "Status.UNSAT Status.SAT                0     0      0\n",
       "             Status.UNSAT             18    28     17\n",
       "             Status.TIMEOUT           14     4     15\n",
       "             Status.MEMORY_OUT         0     0      0\n",
       "             Status.ERROR              0     0      0"
      ]
     },
     "execution_count": 251,
     "metadata": {},
     "output_type": "execute_result"
    }
   ],
   "source": [
    "pd.pivot_table(known_solved, values=['runtime'], index=['kind', 'status'], columns=['backend'],\n",
    "               aggfunc='count')['runtime']"
   ]
  }
 ],
 "metadata": {
  "kernelspec": {
   "display_name": "Python 3 (ipykernel)",
   "language": "python",
   "name": "python3"
  },
  "language_info": {
   "codemirror_mode": {
    "name": "ipython",
    "version": 3
   },
   "file_extension": ".py",
   "mimetype": "text/x-python",
   "name": "python",
   "nbconvert_exporter": "python",
   "pygments_lexer": "ipython3",
   "version": "3.9.12"
  }
 },
 "nbformat": 4,
 "nbformat_minor": 5
}
